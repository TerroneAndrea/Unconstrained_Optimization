{
 "cells": [
  {
   "cell_type": "markdown",
   "metadata": {},
   "source": [
    "First: import the requested packages"
   ]
  },
  {
   "cell_type": "code",
   "execution_count": 2,
   "metadata": {},
   "outputs": [],
   "source": [
    "import autograd.numpy as np\n",
    "import autograd as ag\n",
    "import time"
   ]
  },
  {
   "cell_type": "markdown",
   "metadata": {},
   "source": [
    "Define the function to be minimized\n",
    "\n",
    "f : $R^N $ --> $R$\n",
    "\n",
    "Setting the initial point x"
   ]
  },
  {
   "cell_type": "code",
   "execution_count": 3,
   "metadata": {},
   "outputs": [],
   "source": [
    "#example\n",
    "\n",
    "N=3\n",
    "\n",
    "def f(x):\n",
    "   r = 0\n",
    "   for i in range(10):\n",
    "      r += (np.exp(-(0.1 * (i + 1) * x[0])) - np.exp(-(0.1 * (i + 1) * x[1])) - x[2] * (\n",
    "                 np.exp(-(0.1) * (i + 1)) - np.exp(-10 * (0.1) * (i + 1)))) ** 2\n",
    "   return r\n",
    "\n",
    "\n",
    "x= np.array([0.0,10.0,20.0])"
   ]
  },
  {
   "cell_type": "markdown",
   "metadata": {},
   "source": [
    "Defining the **armijo function** : this funcions return a number alpha that satisfies the armijo condition."
   ]
  },
  {
   "cell_type": "code",
   "execution_count": 4,
   "metadata": {},
   "outputs": [],
   "source": [
    "def armijo(f,x,d):\n",
    "    delta= 0.5\n",
    "    gamma= 10e-3\n",
    "    armijo = 1\n",
    "    while f(x + armijo * d) > f(x) + gamma * armijo * (np.dot(g(x), d)):\n",
    "        armijo = delta * armijo\n",
    "    return armijo"
   ]
  },
  {
   "cell_type": "markdown",
   "metadata": {},
   "source": [
    "Define:\n",
    "    **tollerance** g_toll\n",
    "    **the gradient of the function to be minimized** g\n",
    "    **the hessian of the function to be minimized** h"
   ]
  },
  {
   "cell_type": "code",
   "execution_count": 5,
   "metadata": {},
   "outputs": [],
   "source": [
    "g= ag.grad(f)\n",
    "h= ag.hessian(f)\n",
    "g_toll = 10e-6"
   ]
  },
  {
   "cell_type": "markdown",
   "metadata": {},
   "source": [
    "Defining the **Conjugate-Gradient function**: this function return a direction d calculated by the Conjugate-Gradient method"
   ]
  },
  {
   "cell_type": "code",
   "execution_count": 6,
   "metadata": {},
   "outputs": [],
   "source": [
    "eps1 = 10e-6\n",
    "eps2 = 10e-4\n",
    "\n",
    "def CG(f,x):\n",
    "    d=0\n",
    "    b=0\n",
    "    s= -g(x)\n",
    "    if np.dot(np.dot(s,h(x)),s)< eps1*(np.linalg.norm(s))**2:\n",
    "        d= -g(x)\n",
    "    else:\n",
    "        a= -(np.dot((np.dot(h(x),d)+g(x)),s))/(np.dot(np.dot(s,h(x)),s))\n",
    "        d= d+ a*s\n",
    "        while np.linalg.norm(np.dot(h(x),d)+g(x)) > (1/(k+1))*eps2*np.linalg.norm(g(x)):\n",
    "            b= np.dot(np.dot((np.dot(h(x),d)+g(x)),h(x)),s)/(np.dot(np.dot(s,h(x)),s))\n",
    "            s = -(np.dot(h(x),d)+g(x)) + b*s\n",
    "            if np.dot(np.dot(s,h(x)),s) < eps1*(np.linalg.norm(s))**2:\n",
    "                break\n",
    "            else:\n",
    "                a = -(np.dot((np.dot(h(x),d)+g(x)),s))/(np.dot(np.dot(s,h(x)),s))\n",
    "                d = d + a*s\n",
    "    return d"
   ]
  },
  {
   "cell_type": "markdown",
   "metadata": {},
   "source": [
    "The main algorithm is the follow:"
   ]
  },
  {
   "cell_type": "code",
   "execution_count": 7,
   "metadata": {},
   "outputs": [
    {
     "name": "stdout",
     "output_type": "stream",
     "text": [
      "x*: [ 0.99999846 10.00001422  1.00000095]\n",
      "f(x*): 1.478016114972204e-13\n",
      "number of iterations: 14\n"
     ]
    }
   ],
   "source": [
    "k=0 # number of iteration\n",
    "while np.linalg.norm(g(x))> g_toll:\n",
    "\n",
    "   d= CG(f,x)\n",
    "\n",
    "   a= armijo(f,x,d)\n",
    "\n",
    "   x= x+a*d\n",
    "\n",
    "   k+=1\n",
    "\n",
    "print(\"x*:\",x)\n",
    "print(\"f(x*):\", f(x))\n",
    "print(\"number of iterations:\",k)\n"
   ]
  },
  {
   "cell_type": "code",
   "execution_count": null,
   "metadata": {},
   "outputs": [],
   "source": []
  },
  {
   "cell_type": "code",
   "execution_count": null,
   "metadata": {},
   "outputs": [],
   "source": []
  }
 ],
 "metadata": {
  "kernelspec": {
   "display_name": "Python 3 (ipykernel)",
   "language": "python",
   "name": "python3"
  },
  "language_info": {
   "codemirror_mode": {
    "name": "ipython",
    "version": 3
   },
   "file_extension": ".py",
   "mimetype": "text/x-python",
   "name": "python",
   "nbconvert_exporter": "python",
   "pygments_lexer": "ipython3",
   "version": "3.9.6"
  },
  "vscode": {
   "interpreter": {
    "hash": "3ad933181bd8a04b432d3370b9dc3b0662ad032c4dfaa4e4f1596c548f763858"
   }
  }
 },
 "nbformat": 4,
 "nbformat_minor": 2
}
